{
 "cells": [
  {
   "cell_type": "code",
   "execution_count": 7,
   "metadata": {},
   "outputs": [
    {
     "name": "stdout",
     "output_type": "stream",
     "text": [
      "78475656\n",
      "[1, 2, 3, 4, 5]\n",
      "78475656\n"
     ]
    }
   ],
   "source": [
    "#list常用函数\n",
    "#append()在列表末尾追加元素\n",
    "list2 = [1,2,3,4]\n",
    "print(id(list2))\n",
    "list2.append(5)\n",
    "print(list2)\n",
    "print(id(list2))\n",
    "\n"
   ]
  },
  {
   "cell_type": "code",
   "execution_count": 9,
   "metadata": {},
   "outputs": [
    {
     "name": "stdout",
     "output_type": "stream",
     "text": [
      "[1, 2, 3, 4, 5]\n",
      "[1, 2, 3, 4, 5]\n",
      "78579848\n",
      "78580680\n",
      "[1, 2, 34, [8, 9, 10]]\n"
     ]
    }
   ],
   "source": [
    "#copy 复制列表\n",
    "list3 = [1,2,3,4,5]\n",
    "list5 = [1,2,34,[8,9,10]]\n",
    "list6 = list5.copy()\n",
    "list4 = list3.copy()\n",
    "print(list3)\n",
    "print(list4)\n",
    "print(id(list3))\n",
    "print(id(list4))\n",
    "print(list6)"
   ]
  },
  {
   "cell_type": "code",
   "execution_count": 10,
   "metadata": {},
   "outputs": [
    {
     "name": "stdout",
     "output_type": "stream",
     "text": [
      "2\n"
     ]
    }
   ],
   "source": [
    "#count()计算某个元素在列表中出现的次数\n",
    "list2 = [1,2,5,9,1,2,5,]\n",
    "print(list2.count(1))"
   ]
  },
  {
   "cell_type": "code",
   "execution_count": 12,
   "metadata": {},
   "outputs": [
    {
     "name": "stdout",
     "output_type": "stream",
     "text": [
      "79276552\n",
      "[1, 2, 3, 5, 6, 7]\n",
      "79276552\n"
     ]
    }
   ],
   "source": [
    "#extend() 将一个列表继承另一个列表\n",
    "list1 = [1,2,3]\n",
    "list2 = [5,6,7]\n",
    "print(id(list1))\n",
    "list1.extend(list2)\n",
    "print(list1)\n",
    "print(id(list1))\n"
   ]
  },
  {
   "cell_type": "code",
   "execution_count": 16,
   "metadata": {},
   "outputs": [
    {
     "name": "stdout",
     "output_type": "stream",
     "text": [
      "4\n",
      "5\n"
     ]
    }
   ],
   "source": [
    "#index()获取值在列表中的索引\n",
    "list1 = [1,2,3,4,5,3,2,1]\n",
    "print(list1.index(5))\n",
    "print(list1.index(3,4,7))"
   ]
  },
  {
   "cell_type": "code",
   "execution_count": 18,
   "metadata": {},
   "outputs": [
    {
     "name": "stdout",
     "output_type": "stream",
     "text": [
      "79337288\n",
      "[1, 2, 3, 10, 4, 5]\n",
      "79337288\n"
     ]
    }
   ],
   "source": [
    "#insert()在指定位置插入元素\n",
    "list1 = [1,2,3,4,5]\n",
    "print(id(list1))\n",
    "list1.insert(3,10)\n",
    "print(list1)\n",
    "print(id(list1))"
   ]
  },
  {
   "cell_type": "code",
   "execution_count": 21,
   "metadata": {},
   "outputs": [
    {
     "name": "stdout",
     "output_type": "stream",
     "text": [
      "[1, 3, 5, 7, 9, 11]\n",
      "13\n",
      "[1, 3, 5, 9, 11]\n"
     ]
    }
   ],
   "source": [
    "#pop() 根据索引移除列表中的一个元素\n",
    "list1 = [1,3,5,7,9,11,13]\n",
    "a = list1.pop()\n",
    "print(list1)\n",
    "print(a)\n",
    "list1.pop(3)\n",
    "print(list1)"
   ]
  },
  {
   "cell_type": "code",
   "execution_count": 22,
   "metadata": {},
   "outputs": [
    {
     "name": "stdout",
     "output_type": "stream",
     "text": [
      "[1, 3, 4, 5, 6, 7, 2, 4, 2]\n"
     ]
    }
   ],
   "source": [
    "#remove() 删除列表中指定的值\n",
    "list1 = [1,2,3,4,5,6,7,2,4,2]\n",
    "list1.remove(2)\n",
    "print(list1)"
   ]
  },
  {
   "cell_type": "code",
   "execution_count": 24,
   "metadata": {},
   "outputs": [
    {
     "name": "stdout",
     "output_type": "stream",
     "text": [
      "79339400\n",
      "[5, 4, 3, 2, 1]\n",
      "79339400\n"
     ]
    }
   ],
   "source": [
    "#reverse() 翻转列表,原地翻转\n",
    "list1 = [1,2,3,4,5]\n",
    "print(id(list1))\n",
    "list1.reverse()\n",
    "print(list1)\n",
    "print(id(list1))"
   ]
  },
  {
   "cell_type": "code",
   "execution_count": 30,
   "metadata": {},
   "outputs": [
    {
     "name": "stdout",
     "output_type": "stream",
     "text": [
      "[1, 2, 3, 3, 4, 4, 5, 6, 7, 8, 9, 23]\n",
      "[23, 9, 8, 7, 6, 5, 4, 4, 3, 3, 2, 1]\n"
     ]
    }
   ],
   "source": [
    "#sort() 原地排序,默认从小到大\n",
    "list1 = [3,1,7,6,8,9,23,5,4,2,4,3]\n",
    "list1.sort()\n",
    "print(list1)\n",
    "list1.sort(reverse=True)\n",
    "print(list1)"
   ]
  },
  {
   "cell_type": "code",
   "execution_count": null,
   "metadata": {},
   "outputs": [],
   "source": []
  }
 ],
 "metadata": {
  "kernelspec": {
   "display_name": "Python 3",
   "language": "python",
   "name": "python3"
  },
  "language_info": {
   "codemirror_mode": {
    "name": "ipython",
    "version": 3
   },
   "file_extension": ".py",
   "mimetype": "text/x-python",
   "name": "python",
   "nbconvert_exporter": "python",
   "pygments_lexer": "ipython3",
   "version": "3.7.0"
  }
 },
 "nbformat": 4,
 "nbformat_minor": 2
}
